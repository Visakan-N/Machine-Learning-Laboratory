{
 "cells": [
  {
   "cell_type": "code",
   "execution_count": 1,
   "id": "a690f365",
   "metadata": {},
   "outputs": [],
   "source": [
    "import numpy as np\n",
    "import pandas as pd"
   ]
  },
  {
   "cell_type": "code",
   "execution_count": 2,
   "id": "fcdff206",
   "metadata": {},
   "outputs": [],
   "source": [
    "data = pd.read_csv(\"Height-Weight.csv\")"
   ]
  },
  {
   "cell_type": "code",
   "execution_count": 3,
   "id": "d690f03e",
   "metadata": {},
   "outputs": [],
   "source": [
    "x = data.Height.values\n",
    "y = data.Weight.values"
   ]
  },
  {
   "cell_type": "code",
   "execution_count": 4,
   "id": "a7dd7fa2",
   "metadata": {},
   "outputs": [],
   "source": [
    "n = len(x)\n",
    "xsq = x*x\n",
    "xy = x*y\n",
    "sxsq =np.sum(xsq)\n",
    "sxy = np.sum(xy)\n",
    "sx = np.sum(x)\n",
    "sy = np.sum(y)"
   ]
  },
  {
   "cell_type": "code",
   "execution_count": 5,
   "id": "7b1b44a3",
   "metadata": {},
   "outputs": [],
   "source": [
    "m = (n*sxy)-(sx*sy)//(n*sxsq)-(sx)**2\n",
    "c = sy - (m*sx)//n"
   ]
  },
  {
   "cell_type": "code",
   "execution_count": 10,
   "id": "1c68c8e7",
   "metadata": {},
   "outputs": [
    {
     "name": "stdout",
     "output_type": "stream",
     "text": [
      "Enter a value: 5.6\n",
      "90082.45263999997\n"
     ]
    }
   ],
   "source": [
    "X = float(input(\"Enter a value: \"))\n",
    "y = (m*X)+c\n",
    "print(y)"
   ]
  }
 ],
 "metadata": {
  "kernelspec": {
   "display_name": "Python 3 (ipykernel)",
   "language": "python",
   "name": "python3"
  },
  "language_info": {
   "codemirror_mode": {
    "name": "ipython",
    "version": 3
   },
   "file_extension": ".py",
   "mimetype": "text/x-python",
   "name": "python",
   "nbconvert_exporter": "python",
   "pygments_lexer": "ipython3",
   "version": "3.9.13"
  }
 },
 "nbformat": 4,
 "nbformat_minor": 5
}
