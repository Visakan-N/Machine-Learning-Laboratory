{
 "cells": [
  {
   "cell_type": "code",
   "execution_count": 1,
   "id": "a08b128d",
   "metadata": {},
   "outputs": [],
   "source": [
    "from sklearn.datasets import make_classification\n",
    "x,y = make_classification(n_samples=100, n_features=4)"
   ]
  },
  {
   "cell_type": "code",
   "execution_count": 2,
   "id": "1f1338eb",
   "metadata": {},
   "outputs": [],
   "source": [
    "from sklearn.model_selection import train_test_split\n",
    "x_train,x_test,y_train,y_test = train_test_split(x,y,test_size=0.25,random_state=1)"
   ]
  },
  {
   "cell_type": "code",
   "execution_count": 3,
   "id": "031f7e5c",
   "metadata": {},
   "outputs": [],
   "source": [
    "def sigmoid(out):\n",
    "    return  1/(1+np.exp(-out))"
   ]
  },
  {
   "cell_type": "code",
   "execution_count": 4,
   "id": "f7c20790",
   "metadata": {},
   "outputs": [],
   "source": [
    "epochs = 100\n",
    "import numpy as np\n",
    "import pandas as pd\n",
    "w=[]\n",
    "d_w=[]"
   ]
  },
  {
   "cell_type": "code",
   "execution_count": 5,
   "id": "a0ae096f",
   "metadata": {},
   "outputs": [],
   "source": [
    "for i in range(5):\n",
    "    w.append(np.random.randn())\n",
    "    d_w.append(0)"
   ]
  },
  {
   "cell_type": "code",
   "execution_count": 6,
   "id": "26909239",
   "metadata": {},
   "outputs": [],
   "source": [
    "for i in range(epochs):\n",
    "    for k,x in enumerate(x_train):\n",
    "        out = w[0]\n",
    "        for j in range(1,5):\n",
    "            out+= w[j]*x[j-1]\n",
    "        z = sigmoid(out)\n",
    "        c=1 if z>0.5 else 0\n",
    "        error = y_train[k] - c\n",
    "        d_w[0] = error\n",
    "        w[0] = w[0] + d_w[0]\n",
    "        for j in range(1,5):\n",
    "            d_w[j] = error*x[j-1]\n",
    "            w[j] = w[j] + d_w[j]"
   ]
  },
  {
   "cell_type": "code",
   "execution_count": 7,
   "id": "64feee2c",
   "metadata": {},
   "outputs": [],
   "source": [
    "result =[]\n",
    "count = 0"
   ]
  },
  {
   "cell_type": "code",
   "execution_count": 8,
   "id": "0144e0f0",
   "metadata": {},
   "outputs": [],
   "source": [
    "for i in range(len(y_test)):\n",
    "    out = w[0]\n",
    "    for j in range(1,5):\n",
    "        out+=w[j]*x_test[i][j-1]\n",
    "    z = sigmoid(out)\n",
    "    c=1 if z>0.5 else 0\n",
    "    da = {\"Predicted\":c,\"Actual\":y_test[i]}\n",
    "    if y_test[i]==c:\n",
    "        count+=1\n",
    "    result.append(da)"
   ]
  },
  {
   "cell_type": "code",
   "execution_count": 9,
   "id": "a7bea425",
   "metadata": {},
   "outputs": [
    {
     "name": "stdout",
     "output_type": "stream",
     "text": [
      "    Predicted  Actual\n",
      "0           0       0\n",
      "1           1       1\n",
      "2           0       1\n",
      "3           0       1\n",
      "4           1       1\n",
      "5           0       0\n",
      "6           0       0\n",
      "7           0       1\n",
      "8           0       0\n",
      "9           0       0\n",
      "10          0       0\n",
      "11          1       1\n",
      "12          1       1\n",
      "13          1       1\n",
      "14          1       1\n",
      "15          1       1\n",
      "16          0       0\n",
      "17          0       0\n",
      "18          1       1\n",
      "19          1       1\n",
      "20          1       1\n",
      "21          0       0\n",
      "22          0       0\n",
      "23          1       1\n",
      "24          0       0\n",
      "\n",
      "Accuracy:  88.0\n"
     ]
    }
   ],
   "source": [
    "print(pd.DataFrame(result))\n",
    "print(\"\\nAccuracy: \",count/len(y_test)*100)"
   ]
  }
 ],
 "metadata": {
  "kernelspec": {
   "display_name": "Python 3 (ipykernel)",
   "language": "python",
   "name": "python3"
  },
  "language_info": {
   "codemirror_mode": {
    "name": "ipython",
    "version": 3
   },
   "file_extension": ".py",
   "mimetype": "text/x-python",
   "name": "python",
   "nbconvert_exporter": "python",
   "pygments_lexer": "ipython3",
   "version": "3.9.13"
  }
 },
 "nbformat": 4,
 "nbformat_minor": 5
}
