{
 "cells": [
  {
   "cell_type": "code",
   "execution_count": 1,
   "id": "27b3a025",
   "metadata": {},
   "outputs": [],
   "source": [
    "import pandas as pd"
   ]
  },
  {
   "cell_type": "code",
   "execution_count": 2,
   "id": "3944e830",
   "metadata": {},
   "outputs": [],
   "source": [
    "data = pd.read_csv(\"AND.csv\")"
   ]
  },
  {
   "cell_type": "code",
   "execution_count": 3,
   "id": "b6f3d445",
   "metadata": {},
   "outputs": [],
   "source": [
    "target_column = ['Output']\n",
    "features = list(set(list(data.columns))-set(target_column))"
   ]
  },
  {
   "cell_type": "code",
   "execution_count": 4,
   "id": "f8755337",
   "metadata": {},
   "outputs": [],
   "source": [
    "x = data[features].values\n",
    "y = data[target_column].values"
   ]
  },
  {
   "cell_type": "code",
   "execution_count": 5,
   "id": "2d4d1cda",
   "metadata": {},
   "outputs": [],
   "source": [
    "from sklearn.model_selection import train_test_split\n",
    "x_train,x_test,y_train,y_test = train_test_split(x,y,test_size=0.25,random_state=1)"
   ]
  },
  {
   "cell_type": "code",
   "execution_count": 6,
   "id": "856d1244",
   "metadata": {},
   "outputs": [],
   "source": [
    "from sklearn.neural_network import MLPClassifier\n",
    "classifier = MLPClassifier(learning_rate_init=0.1,random_state=1)\n",
    "classifier.fit(x_train,y_train.ravel())\n",
    "ydash = classifier.predict(x_test)"
   ]
  },
  {
   "cell_type": "code",
   "execution_count": 7,
   "id": "e8e37032",
   "metadata": {},
   "outputs": [],
   "source": [
    "from sklearn.metrics import confusion_matrix,accuracy_score\n",
    "CM = confusion_matrix(y_test, ydash)\n",
    "ASC = accuracy_score(y_test,ydash)"
   ]
  },
  {
   "cell_type": "code",
   "execution_count": 8,
   "id": "fa5604c2",
   "metadata": {},
   "outputs": [
    {
     "name": "stdout",
     "output_type": "stream",
     "text": [
      "Confusion Matrix:: \n",
      " [[2 0]\n",
      " [0 3]]\n",
      "Accuracy Score::  100.0\n",
      "Misclassified ::  12\n"
     ]
    }
   ],
   "source": [
    "print(\"Confusion Matrix:: \\n\",CM)\n",
    "print(\"Accuracy Score:: \",ASC*100)\n",
    "print(\"Misclassified :: \",format((y_test!=ydash).sum()))"
   ]
  }
 ],
 "metadata": {
  "kernelspec": {
   "display_name": "Python 3 (ipykernel)",
   "language": "python",
   "name": "python3"
  },
  "language_info": {
   "codemirror_mode": {
    "name": "ipython",
    "version": 3
   },
   "file_extension": ".py",
   "mimetype": "text/x-python",
   "name": "python",
   "nbconvert_exporter": "python",
   "pygments_lexer": "ipython3",
   "version": "3.9.13"
  }
 },
 "nbformat": 4,
 "nbformat_minor": 5
}
