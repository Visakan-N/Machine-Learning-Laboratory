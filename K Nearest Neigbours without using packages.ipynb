{
 "cells": [
  {
   "cell_type": "code",
   "execution_count": 1,
   "id": "a493cf4c",
   "metadata": {},
   "outputs": [],
   "source": [
    "import numpy as np\n",
    "import pandas as pd"
   ]
  },
  {
   "cell_type": "code",
   "execution_count": 2,
   "id": "7eb146a2",
   "metadata": {},
   "outputs": [],
   "source": [
    "data=pd.read_csv(\"iris.csv\", index_col=0, na_values=([\"??\", \"????\", \"###\"]))"
   ]
  },
  {
   "cell_type": "code",
   "execution_count": 3,
   "id": "83526514",
   "metadata": {},
   "outputs": [],
   "source": [
    "data[\"Species\"].replace('Iris-setosa', 1, inplace=True)\n",
    "data[\"Species\"].replace('Iris-versicolor', 2, inplace=True)\n",
    "data[\"Species\"].replace('Iris-virginica', 3, inplace=True)"
   ]
  },
  {
   "cell_type": "code",
   "execution_count": 4,
   "id": "0203aa00",
   "metadata": {},
   "outputs": [],
   "source": [
    "data[\"Species\"]=data[\"Species\"].astype(\"int64\")"
   ]
  },
  {
   "cell_type": "code",
   "execution_count": 5,
   "id": "25e49ac8",
   "metadata": {},
   "outputs": [],
   "source": [
    "class_label=np.array(['Iris-sentosa', 'Iris-versicolor', 'Iris-virginica'])"
   ]
  },
  {
   "cell_type": "code",
   "execution_count": 6,
   "id": "1b505a0b",
   "metadata": {},
   "outputs": [],
   "source": [
    "data['SepalLengthCm'].fillna(data['SepalLengthCm'].mean(), inplace=True)\n",
    "data['SepalWidthCm'].fillna(data['SepalWidthCm'].mean(), inplace=True)\n",
    "data['PetalLengthCm'].fillna(data['PetalLengthCm'].mean(), inplace=True)\n",
    "data['PetalWidthCm'].fillna(data['PetalWidthCm'].mean(), inplace=True)"
   ]
  },
  {
   "cell_type": "code",
   "execution_count": 7,
   "id": "b4a309aa",
   "metadata": {},
   "outputs": [],
   "source": [
    "features=np.array(['SepalLengthCm', 'SepalWidthCm', 'PetalLengthCm', 'PetalWidthCm'])"
   ]
  },
  {
   "cell_type": "code",
   "execution_count": 8,
   "id": "96899d72",
   "metadata": {},
   "outputs": [],
   "source": [
    "data['Distance']=0"
   ]
  },
  {
   "cell_type": "code",
   "execution_count": 9,
   "id": "0f28be6c",
   "metadata": {},
   "outputs": [
    {
     "name": "stdout",
     "output_type": "stream",
     "text": [
      "Enter the input: \n",
      "Enter the sepal length: 5\n",
      "Enter the sepal width: 2\n",
      "Enter the petal length: 6\n",
      "Enter the peatal width: 2\n"
     ]
    }
   ],
   "source": [
    "print(\"Enter the input: \")\n",
    "SL=float(input(\"Enter the sepal length: \"))\n",
    "SW=float(input(\"Enter the sepal width: \"))\n",
    "PL=float(input(\"Enter the petal length: \"))\n",
    "PW=float(input(\"Enter the peatal width: \"))"
   ]
  },
  {
   "cell_type": "code",
   "execution_count": 10,
   "id": "a6498ea3",
   "metadata": {},
   "outputs": [],
   "source": [
    "k=75\n",
    "\n",
    "sample=[SL, SW, PL, PW]\n",
    "for i in range (len(data)):\n",
    "    for j in range (len(features)):\n",
    "        data.iloc[i, 5]+=((sample[j]-data.iloc[i, j])**2)"
   ]
  },
  {
   "cell_type": "code",
   "execution_count": 11,
   "id": "6c195286",
   "metadata": {},
   "outputs": [
    {
     "name": "stdout",
     "output_type": "stream",
     "text": [
      "The sample [5.0, 2.0, 6.0, 2.0] belongs to the class Iris-virginica\n"
     ]
    }
   ],
   "source": [
    "sorted_data=data.sort_values(by='Distance')\n",
    "output=sorted_data.iloc[0:k, 4]\n",
    "Y=output.value_counts().index[0]\n",
    "print(\"The sample {} belongs to the class {}\".format(sample, class_label[Y-1]))"
   ]
  }
 ],
 "metadata": {
  "kernelspec": {
   "display_name": "Python 3 (ipykernel)",
   "language": "python",
   "name": "python3"
  },
  "language_info": {
   "codemirror_mode": {
    "name": "ipython",
    "version": 3
   },
   "file_extension": ".py",
   "mimetype": "text/x-python",
   "name": "python",
   "nbconvert_exporter": "python",
   "pygments_lexer": "ipython3",
   "version": "3.9.13"
  }
 },
 "nbformat": 4,
 "nbformat_minor": 5
}
