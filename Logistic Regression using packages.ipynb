{
 "cells": [
  {
   "cell_type": "code",
   "execution_count": 1,
   "id": "b179d8f0",
   "metadata": {},
   "outputs": [],
   "source": [
    "from sklearn.datasets import make_classification\n",
    "x,y = make_classification(n_samples=100, n_features=4)"
   ]
  },
  {
   "cell_type": "code",
   "execution_count": 2,
   "id": "df7c1e8b",
   "metadata": {},
   "outputs": [],
   "source": [
    "from sklearn.model_selection import train_test_split\n",
    "x_train,x_test,y_train,y_test = train_test_split(x,y,test_size=0.25,random_state=1)"
   ]
  },
  {
   "cell_type": "code",
   "execution_count": 3,
   "id": "bb35f509",
   "metadata": {},
   "outputs": [],
   "source": [
    "from sklearn.linear_model import LogisticRegression\n",
    "classifier = LogisticRegression(random_state=1)"
   ]
  },
  {
   "cell_type": "code",
   "execution_count": 4,
   "id": "6fa16507",
   "metadata": {},
   "outputs": [],
   "source": [
    "classifier.fit(x_train,y_train.ravel())\n",
    "ydash = classifier.predict(x_test)"
   ]
  },
  {
   "cell_type": "code",
   "execution_count": 5,
   "id": "aefed4b4",
   "metadata": {},
   "outputs": [],
   "source": [
    "from sklearn.metrics import confusion_matrix,accuracy_score\n",
    "CM = confusion_matrix(y_test, ydash)\n",
    "ASC = accuracy_score(y_test,ydash)"
   ]
  },
  {
   "cell_type": "code",
   "execution_count": 6,
   "id": "cc91397f",
   "metadata": {},
   "outputs": [
    {
     "name": "stdout",
     "output_type": "stream",
     "text": [
      "Confusion Matrix::\n",
      "  [[11  3]\n",
      " [ 0 11]]\n",
      "Accuracy Score:: 88.0 %\n",
      "Misclassified Samples :: 3\n"
     ]
    }
   ],
   "source": [
    "print(\"Confusion Matrix::\\n \",CM)\n",
    "print(\"Accuracy Score::\",ASC*100,\"%\")\n",
    "print(\"Misclassified Samples ::\",format((y_test!=ydash).sum()))"
   ]
  }
 ],
 "metadata": {
  "kernelspec": {
   "display_name": "Python 3 (ipykernel)",
   "language": "python",
   "name": "python3"
  },
  "language_info": {
   "codemirror_mode": {
    "name": "ipython",
    "version": 3
   },
   "file_extension": ".py",
   "mimetype": "text/x-python",
   "name": "python",
   "nbconvert_exporter": "python",
   "pygments_lexer": "ipython3",
   "version": "3.9.13"
  }
 },
 "nbformat": 4,
 "nbformat_minor": 5
}
