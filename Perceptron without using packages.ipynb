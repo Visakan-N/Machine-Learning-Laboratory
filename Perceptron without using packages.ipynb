{
 "cells": [
  {
   "cell_type": "code",
   "execution_count": 1,
   "id": "aef8192e",
   "metadata": {},
   "outputs": [],
   "source": [
    "import pandas as pd\n",
    "import numpy as np"
   ]
  },
  {
   "cell_type": "code",
   "execution_count": 2,
   "id": "15a00099",
   "metadata": {},
   "outputs": [],
   "source": [
    "data = pd.read_csv(\"AND.csv\")"
   ]
  },
  {
   "cell_type": "code",
   "execution_count": 3,
   "id": "97b62f2c",
   "metadata": {},
   "outputs": [],
   "source": [
    "target_col = ['Output']\n",
    "features = list(set(list(data.columns))-set(target_col))\n",
    "x = data[features].values\n",
    "y = data[target_col].values"
   ]
  },
  {
   "cell_type": "code",
   "execution_count": 4,
   "id": "3eed82a5",
   "metadata": {},
   "outputs": [],
   "source": [
    "test_size = int(round(0.25*len(data),0))\n",
    "train_size = len(data)-test_size"
   ]
  },
  {
   "cell_type": "code",
   "execution_count": 5,
   "id": "55cfcb7e",
   "metadata": {},
   "outputs": [],
   "source": [
    "x_train = x[0:train_size]\n",
    "x_test = x[train_size:len(data)]\n",
    "y_train = y[0:train_size]\n",
    "y_test = y[train_size:len(data)]"
   ]
  },
  {
   "cell_type": "code",
   "execution_count": 6,
   "id": "d9788331",
   "metadata": {},
   "outputs": [],
   "source": [
    "lr = 0.1\n",
    "epochs = 100"
   ]
  },
  {
   "cell_type": "code",
   "execution_count": 7,
   "id": "33d760b9",
   "metadata": {},
   "outputs": [],
   "source": [
    "w0 = np.random.randn()\n",
    "w1 = np.random.randn()\n",
    "w2 = np.random.randn()"
   ]
  },
  {
   "cell_type": "code",
   "execution_count": 8,
   "id": "6fc54dfa",
   "metadata": {},
   "outputs": [],
   "source": [
    "d_w0 = 0\n",
    "d_w1 = 0\n",
    "d_w2 = 0"
   ]
  },
  {
   "cell_type": "code",
   "execution_count": 9,
   "id": "81211200",
   "metadata": {},
   "outputs": [],
   "source": [
    "for i in range(epochs):\n",
    "    j = 0\n",
    "    for x in x_train:\n",
    "        out = w0 + w1*x[0] + w2*x[1]\n",
    "        if out>0: res = 1\n",
    "        else: res = 0\n",
    "        \n",
    "        error = y_train[j][0] - res\n",
    "        d_w0 = lr*error\n",
    "        d_w1 = lr*error*x[0]\n",
    "        d_w2 = lr*error*x[1]\n",
    "        \n",
    "        w0 = w0 + d_w0\n",
    "        w1 = w1 + d_w1\n",
    "        w2 = w2 + d_w2\n",
    "        j+=1"
   ]
  },
  {
   "cell_type": "code",
   "execution_count": 10,
   "id": "d4dc6993",
   "metadata": {},
   "outputs": [],
   "source": [
    "result = []\n",
    "count = 0"
   ]
  },
  {
   "cell_type": "code",
   "execution_count": 11,
   "id": "cf2f0cb2",
   "metadata": {},
   "outputs": [],
   "source": [
    "for i in range(len(y_test)):\n",
    "    out = out = w0 + w1*x_test[i][0] + w2*x_test[i][1]\n",
    "    if out>=0:res=1\n",
    "    else:res=0\n",
    "    da = {\"X1\":x_test[i][0],\"X2\":x_test[i][1],\"Predicted\":res,\"Actual\":y_test[i][0]}\n",
    "    if y_test[i][0]==res:\n",
    "        count+=1\n",
    "    result.append(da)"
   ]
  },
  {
   "cell_type": "code",
   "execution_count": 12,
   "id": "86bc9694",
   "metadata": {},
   "outputs": [
    {
     "name": "stdout",
     "output_type": "stream",
     "text": [
      "     X1     X2  Predicted  Actual\n",
      "0  0.11  1.020          0       0\n",
      "1  0.98  0.870          1       1\n",
      "2  0.20  1.300          1       0\n",
      "3  0.20  0.003          0       0\n",
      "\n",
      "Accuracy:  75.0\n"
     ]
    }
   ],
   "source": [
    "print(pd.DataFrame(result))\n",
    "print(\"\\nAccuracy: \",count/len(y_test)*100)"
   ]
  }
 ],
 "metadata": {
  "kernelspec": {
   "display_name": "Python 3 (ipykernel)",
   "language": "python",
   "name": "python3"
  },
  "language_info": {
   "codemirror_mode": {
    "name": "ipython",
    "version": 3
   },
   "file_extension": ".py",
   "mimetype": "text/x-python",
   "name": "python",
   "nbconvert_exporter": "python",
   "pygments_lexer": "ipython3",
   "version": "3.9.13"
  }
 },
 "nbformat": 4,
 "nbformat_minor": 5
}
