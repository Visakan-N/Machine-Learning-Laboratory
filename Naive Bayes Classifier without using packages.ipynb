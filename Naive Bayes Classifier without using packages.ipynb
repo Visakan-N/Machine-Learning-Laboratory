{
 "cells": [
  {
   "cell_type": "code",
   "execution_count": 4,
   "id": "06535780",
   "metadata": {},
   "outputs": [],
   "source": [
    "import pandas as pd\n",
    "import numpy as np"
   ]
  },
  {
   "cell_type": "code",
   "execution_count": 5,
   "id": "3894008b",
   "metadata": {},
   "outputs": [],
   "source": [
    "def calculate_prob(x,mean,variance):\n",
    "    exponent = np.exp(-((x-mean)**2/(2*variance)))\n",
    "    return (1/(np.sqrt(2*np.pi)*variance))*exponent"
   ]
  },
  {
   "cell_type": "code",
   "execution_count": 6,
   "id": "956ee381",
   "metadata": {},
   "outputs": [
    {
     "name": "stdout",
     "output_type": "stream",
     "text": [
      "[4.3 4.4 4.5 4.6 4.7 4.8 4.9 5.  5.1 5.2 5.3 5.4 5.5 5.6 5.7 5.8 5.9 6.\n",
      " 6.1 6.2 6.3 6.4 6.5 6.6 6.7 6.8 6.9 7.  7.1 7.2 7.3 7.4 7.6 7.7 7.9 nan]\n",
      "[2.  2.2 2.3 2.4 2.5 2.6 2.7 2.8 2.9 3.  3.1 3.2 3.3 3.4 3.5 3.6 3.7 3.8\n",
      " 3.9 4.  4.1 4.2 4.4 nan]\n",
      "[1.  1.1 1.2 1.3 1.4 1.5 1.6 1.7 1.9 3.  3.3 3.5 3.6 3.7 3.8 3.9 4.  4.1\n",
      " 4.2 4.3 4.4 4.5 4.6 4.7 4.8 4.9 5.  5.1 5.2 5.3 5.4 5.5 5.6 5.7 5.8 5.9\n",
      " 6.  6.1 6.3 6.4 6.6 6.7 6.9 nan]\n",
      "[0.1 0.2 0.3 0.4 0.5 0.6 1.  1.1 1.2 1.3 1.4 1.5 1.6 1.7 1.8 1.9 2.  2.1\n",
      " 2.2 2.3 2.4 2.5]\n",
      "['Iris-setosa' 'Iris-versicolor' 'Iris-virginica']\n"
     ]
    }
   ],
   "source": [
    "data = pd.read_csv(\"iris.csv\",index_col=0,na_values=['??','???','###'])\n",
    "print(np.unique(data['SepalLengthCm']))\n",
    "print(np.unique(data['SepalWidthCm']))\n",
    "print(np.unique(data['PetalLengthCm']))\n",
    "print(np.unique(data['PetalWidthCm']))\n",
    "print(np.unique(data['Species']))"
   ]
  },
  {
   "cell_type": "code",
   "execution_count": 7,
   "id": "3c280823",
   "metadata": {},
   "outputs": [],
   "source": [
    "data['Species'].replace('Iris-setosa',1,inplace=True)\n",
    "data['Species'].replace('Iris-versicolor',2,inplace=True)\n",
    "data['Species'].replace('Iris-virginica',3,inplace=True)\n",
    "data['Species']=data['Species'].astype('int64')"
   ]
  },
  {
   "cell_type": "code",
   "execution_count": 8,
   "id": "bea96079",
   "metadata": {},
   "outputs": [],
   "source": [
    "data['SepalLengthCm'].fillna(data['SepalLengthCm'].mean(),inplace=True)\n",
    "data['SepalWidthCm'].fillna(data['SepalWidthCm'].mean(),inplace=True)\n",
    "data['PetalLengthCm'].fillna(data['PetalLengthCm'].mean(),inplace=True)"
   ]
  },
  {
   "cell_type": "code",
   "execution_count": 22,
   "id": "9cc4771f",
   "metadata": {},
   "outputs": [],
   "source": [
    "class_label = np.array(['Iris-setosa', 'Iris-versicolor', 'Iris-virginica'])\n",
    "features = np.array(['SepalLengthCm','SepalWidthCm','PetalLengthCm','PetalWidthCm'])"
   ]
  },
  {
   "cell_type": "code",
   "execution_count": 23,
   "id": "03da9ffb",
   "metadata": {},
   "outputs": [],
   "source": [
    "AM = np.zeros((len(features),len(class_label)))\n",
    "AV = np.zeros((len(features),len(class_label)))"
   ]
  },
  {
   "cell_type": "code",
   "execution_count": 24,
   "id": "b2ff5edf",
   "metadata": {},
   "outputs": [],
   "source": [
    "for i in range(len(class_label)):\n",
    "    clas = pd.DataFrame(data[data['Species'].isin([i+1])])\n",
    "    for j in range(len(features)):\n",
    "        AM[j][i] = np.mean(clas[features[j]])\n",
    "        AV[j][i] = np.var(clas[features[j]])"
   ]
  },
  {
   "cell_type": "code",
   "execution_count": 25,
   "id": "be560911",
   "metadata": {},
   "outputs": [
    {
     "name": "stdout",
     "output_type": "stream",
     "text": [
      "ENTER INPUTS:\n",
      "Enter the SepalLength: 5\n",
      "Enter the SepalWidth: 3\n",
      "Enter the PetalLength: 5\n",
      "Enter the PetalWidth: 2\n"
     ]
    }
   ],
   "source": [
    "print(\"ENTER INPUTS:\")\n",
    "SL = float(input(\"Enter the SepalLength: \"))\n",
    "SW = float(input(\"Enter the SepalWidth: \"))\n",
    "PL = float(input(\"Enter the PetalLength: \"))\n",
    "PW = float(input(\"Enter the PetalWidth: \"))\n",
    "x = [SL,SW,PL,PW]\n",
    "A = np.zeros((len(features),len(class_label)))"
   ]
  },
  {
   "cell_type": "code",
   "execution_count": 26,
   "id": "1f051a0e",
   "metadata": {},
   "outputs": [
    {
     "name": "stdout",
     "output_type": "stream",
     "text": [
      "[[3.00801467e+00 2.85424316e-01 4.17854579e-02]\n",
      " [1.51604179e+00 3.14300853e+00 3.90115675e+00]\n",
      " [2.07808648e-11 5.20189901e-01 8.02247122e-01]\n",
      " [1.27306848e-58 2.77632588e-02 5.37203581e+00]]\n"
     ]
    }
   ],
   "source": [
    "for i in range(len(features)):\n",
    "    A[i] = calculate_prob(x[i],AM[i],AV[i])\n",
    "print(A)"
   ]
  },
  {
   "cell_type": "code",
   "execution_count": 27,
   "id": "4600ec24",
   "metadata": {},
   "outputs": [
    {
     "name": "stdout",
     "output_type": "stream",
     "text": [
      "[3.98125913e-69 4.27545980e-03 2.31835305e-01]\n",
      "Iris-virginica\n"
     ]
    }
   ],
   "source": [
    "large = 0.0\n",
    "pc = np.array([0.33,0.33,0.33])\n",
    "for i in range(len(class_label)):\n",
    "    for j in range(len(features)):\n",
    "        pc[i] = pc[i]*A[j][i]\n",
    "    if large < pc[i]:\n",
    "        large = pc[i]\n",
    "        k = i\n",
    "print(pc)\n",
    "print(class_label[k])"
   ]
  }
 ],
 "metadata": {
  "kernelspec": {
   "display_name": "Python 3 (ipykernel)",
   "language": "python",
   "name": "python3"
  },
  "language_info": {
   "codemirror_mode": {
    "name": "ipython",
    "version": 3
   },
   "file_extension": ".py",
   "mimetype": "text/x-python",
   "name": "python",
   "nbconvert_exporter": "python",
   "pygments_lexer": "ipython3",
   "version": "3.9.13"
  }
 },
 "nbformat": 4,
 "nbformat_minor": 5
}
