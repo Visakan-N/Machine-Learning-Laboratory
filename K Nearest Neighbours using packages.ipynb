{
 "cells": [
  {
   "cell_type": "code",
   "execution_count": 1,
   "id": "6292ac6c",
   "metadata": {},
   "outputs": [],
   "source": [
    "import numpy as np\n",
    "import pandas as pd"
   ]
  },
  {
   "cell_type": "code",
   "execution_count": 2,
   "id": "8aa4593a",
   "metadata": {},
   "outputs": [],
   "source": [
    "data=pd.read_csv(\"iris.csv\", index_col=0, na_values=([\"??\", \"????\", \"###\"]))"
   ]
  },
  {
   "cell_type": "code",
   "execution_count": 3,
   "id": "c975c5d1",
   "metadata": {},
   "outputs": [],
   "source": [
    "data[\"Species\"].replace('Iris-setosa', 1, inplace=True)\n",
    "data[\"Species\"].replace('Iris-versicolor', 2, inplace=True)\n",
    "data[\"Species\"].replace('Iris-virginica', 3, inplace=True)"
   ]
  },
  {
   "cell_type": "code",
   "execution_count": 4,
   "id": "e0e0a00d",
   "metadata": {},
   "outputs": [],
   "source": [
    "data[\"Species\"]=data[\"Species\"].astype(\"int64\")"
   ]
  },
  {
   "cell_type": "code",
   "execution_count": 5,
   "id": "ae6eb549",
   "metadata": {},
   "outputs": [],
   "source": [
    "class_label=np.array(['Iris-sentosa', 'Iris-versicolor', 'Iris-virginica'])"
   ]
  },
  {
   "cell_type": "code",
   "execution_count": 6,
   "id": "149ac85d",
   "metadata": {},
   "outputs": [],
   "source": [
    "data['SepalLengthCm'].fillna(data['SepalLengthCm'].mean(), inplace=True)\n",
    "data['SepalWidthCm'].fillna(data['SepalWidthCm'].mean(), inplace=True)\n",
    "data['PetalLengthCm'].fillna(data['PetalLengthCm'].mean(), inplace=True)\n",
    "data['PetalWidthCm'].fillna(data['PetalWidthCm'].mean(), inplace=True)"
   ]
  },
  {
   "cell_type": "code",
   "execution_count": 7,
   "id": "788f14cd",
   "metadata": {},
   "outputs": [],
   "source": [
    "column_list=list(data.columns)\n",
    "feature_list=list(set(data.columns)-set(data['Species']))\n",
    "X=data[feature_list].values\n",
    "Y=data[\"Species\"].values"
   ]
  },
  {
   "cell_type": "code",
   "execution_count": 8,
   "id": "9d0cf187",
   "metadata": {},
   "outputs": [],
   "source": [
    "from sklearn.model_selection import train_test_split\n",
    "train_x, test_x, train_y, test_y=train_test_split(X, Y, test_size=0.25, random_state=None)"
   ]
  },
  {
   "cell_type": "code",
   "execution_count": 9,
   "id": "20544d2b",
   "metadata": {},
   "outputs": [
    {
     "name": "stderr",
     "output_type": "stream",
     "text": [
      "C:\\ProgramData\\Anaconda3\\lib\\site-packages\\sklearn\\neighbors\\_classification.py:228: FutureWarning: Unlike other reduction functions (e.g. `skew`, `kurtosis`), the default behavior of `mode` typically preserves the axis it acts along. In SciPy 1.11.0, this behavior will change: the default value of `keepdims` will become False, the `axis` over which the statistic is taken will be eliminated, and the value None will no longer be accepted. Set `keepdims` to True or False to avoid this warning.\n",
      "  mode, _ = stats.mode(_y[neigh_ind, k], axis=1)\n"
     ]
    }
   ],
   "source": [
    "from sklearn.neighbors import KNeighborsClassifier\n",
    "classifier=KNeighborsClassifier()\n",
    "classifier.fit(train_x, train_y)\n",
    "y_dash=classifier.predict(test_x)"
   ]
  },
  {
   "cell_type": "code",
   "execution_count": 10,
   "id": "966b9713",
   "metadata": {},
   "outputs": [
    {
     "name": "stdout",
     "output_type": "stream",
     "text": [
      "The confusion matrix is: \n",
      " [[ 7  0  0]\n",
      " [ 0 19  0]\n",
      " [ 0  0 12]]\n",
      "The accuracy score is:  100.0\n",
      "Misclassified samples = 0\n"
     ]
    }
   ],
   "source": [
    "from sklearn.metrics import accuracy_score, confusion_matrix\n",
    "cm5=confusion_matrix(test_y, y_dash)\n",
    "acc5=accuracy_score(test_y, y_dash)\n",
    "print(\"The confusion matrix is: \\n\", cm5)\n",
    "print(\"The accuracy score is: \", acc5*100)\n",
    "print(\"Misclassified samples = {}\".format((test_y != y_dash).sum()))"
   ]
  }
 ],
 "metadata": {
  "kernelspec": {
   "display_name": "Python 3 (ipykernel)",
   "language": "python",
   "name": "python3"
  },
  "language_info": {
   "codemirror_mode": {
    "name": "ipython",
    "version": 3
   },
   "file_extension": ".py",
   "mimetype": "text/x-python",
   "name": "python",
   "nbconvert_exporter": "python",
   "pygments_lexer": "ipython3",
   "version": "3.9.13"
  }
 },
 "nbformat": 4,
 "nbformat_minor": 5
}
