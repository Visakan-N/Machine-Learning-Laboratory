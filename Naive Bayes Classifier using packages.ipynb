{
 "cells": [
  {
   "cell_type": "code",
   "execution_count": 1,
   "id": "cac2957b",
   "metadata": {},
   "outputs": [],
   "source": [
    "import pandas as pd\n",
    "import numpy as np"
   ]
  },
  {
   "cell_type": "code",
   "execution_count": 3,
   "id": "3542a53e",
   "metadata": {},
   "outputs": [
    {
     "name": "stdout",
     "output_type": "stream",
     "text": [
      "     SepalLengthCm  SepalWidthCm  PetalLengthCm  PetalWidthCm         Species\n",
      "1              5.1           3.5            1.4           0.2     Iris-setosa\n",
      "2              4.9           NaN            1.4           0.2     Iris-setosa\n",
      "3              4.7           3.2            1.3           0.2     Iris-setosa\n",
      "4              NaN           3.1            1.5           0.2     Iris-setosa\n",
      "5              5.0           3.6            NaN           0.2     Iris-setosa\n",
      "..             ...           ...            ...           ...             ...\n",
      "146            6.7           3.0            5.2           2.3  Iris-virginica\n",
      "147            6.3           2.5            5.0           1.9  Iris-virginica\n",
      "148            6.5           3.0            5.2           2.0  Iris-virginica\n",
      "149            6.2           3.4            5.4           2.3  Iris-virginica\n",
      "150            5.9           3.0            5.1           1.8  Iris-virginica\n",
      "\n",
      "[150 rows x 5 columns]\n"
     ]
    }
   ],
   "source": [
    "data=pd.read_csv(\"iris.csv\", index_col=0, na_values=([\"??\", \"????\", \"###\"]))\n",
    "print(data)"
   ]
  },
  {
   "cell_type": "code",
   "execution_count": 4,
   "id": "8036d332",
   "metadata": {},
   "outputs": [
    {
     "name": "stdout",
     "output_type": "stream",
     "text": [
      "<class 'pandas.core.frame.DataFrame'>\n",
      "Int64Index: 150 entries, 1 to 150\n",
      "Data columns (total 5 columns):\n",
      " #   Column         Non-Null Count  Dtype  \n",
      "---  ------         --------------  -----  \n",
      " 0   SepalLengthCm  149 non-null    float64\n",
      " 1   SepalWidthCm   149 non-null    float64\n",
      " 2   PetalLengthCm  148 non-null    float64\n",
      " 3   PetalWidthCm   150 non-null    float64\n",
      " 4   Species        150 non-null    object \n",
      "dtypes: float64(4), object(1)\n",
      "memory usage: 7.0+ KB\n",
      "None\n"
     ]
    }
   ],
   "source": [
    "print(data.info())"
   ]
  },
  {
   "cell_type": "code",
   "execution_count": 6,
   "id": "aff19bd7",
   "metadata": {},
   "outputs": [
    {
     "name": "stdout",
     "output_type": "stream",
     "text": [
      "[4.3 4.4 4.5 4.6 4.7 4.8 4.9 5.  5.1 5.2 5.3 5.4 5.5 5.6 5.7 5.8 5.9 6.\n",
      " 6.1 6.2 6.3 6.4 6.5 6.6 6.7 6.8 6.9 7.  7.1 7.2 7.3 7.4 7.6 7.7 7.9 nan]\n",
      "[2.  2.2 2.3 2.4 2.5 2.6 2.7 2.8 2.9 3.  3.1 3.2 3.3 3.4 3.5 3.6 3.7 3.8\n",
      " 3.9 4.  4.1 4.2 4.4 nan]\n",
      "[1.  1.1 1.2 1.3 1.4 1.5 1.6 1.7 1.9 3.  3.3 3.5 3.6 3.7 3.8 3.9 4.  4.1\n",
      " 4.2 4.3 4.4 4.5 4.6 4.7 4.8 4.9 5.  5.1 5.2 5.3 5.4 5.5 5.6 5.7 5.8 5.9\n",
      " 6.  6.1 6.3 6.4 6.6 6.7 6.9 nan]\n",
      "[0.1 0.2 0.3 0.4 0.5 0.6 1.  1.1 1.2 1.3 1.4 1.5 1.6 1.7 1.8 1.9 2.  2.1\n",
      " 2.2 2.3 2.4 2.5]\n",
      "['Iris-setosa' 'Iris-versicolor' 'Iris-virginica']\n"
     ]
    }
   ],
   "source": [
    "print(np.unique(data[\"SepalLengthCm\"]))\n",
    "print(np.unique(data[\"SepalWidthCm\"]))\n",
    "print(np.unique(data[\"PetalLengthCm\"]))\n",
    "print(np.unique(data[\"PetalWidthCm\"]))\n",
    "print(np.unique(data[\"Species\"]))"
   ]
  },
  {
   "cell_type": "code",
   "execution_count": 7,
   "id": "f3890124",
   "metadata": {},
   "outputs": [],
   "source": [
    "data[\"Species\"].replace('Iris-setosa', 1, inplace=True)\n",
    "data[\"Species\"].replace('Iris-versicolor', 2, inplace=True)\n",
    "data[\"Species\"].replace('Iris-virginica', 3, inplace=True)"
   ]
  },
  {
   "cell_type": "code",
   "execution_count": 8,
   "id": "98c20f49",
   "metadata": {},
   "outputs": [],
   "source": [
    "class_label=np.array(['Iris-sentosa', 'Iris-versicolor', 'Iris-virginica'])"
   ]
  },
  {
   "cell_type": "code",
   "execution_count": 9,
   "id": "a080fdcc",
   "metadata": {},
   "outputs": [
    {
     "name": "stdout",
     "output_type": "stream",
     "text": [
      "SepalLengthCm    1\n",
      "SepalWidthCm     1\n",
      "PetalLengthCm    2\n",
      "PetalWidthCm     0\n",
      "Species          0\n",
      "dtype: int64\n"
     ]
    }
   ],
   "source": [
    "print(data.isnull().sum())\n",
    "data['SepalLengthCm'].fillna(data['SepalLengthCm'].mean(), inplace=True)\n",
    "data['SepalWidthCm'].fillna(data['SepalWidthCm'].mean(), inplace=True)\n",
    "data['PetalLengthCm'].fillna(data['PetalLengthCm'].mean(), inplace=True)"
   ]
  },
  {
   "cell_type": "code",
   "execution_count": 10,
   "id": "c1ee10a2",
   "metadata": {},
   "outputs": [],
   "source": [
    "column_list=list(data.columns)\n",
    "feature_list=list(set(data.columns)-set(data['Species']))\n",
    "X=data[feature_list].values\n",
    "Y=data[\"Species\"].values"
   ]
  },
  {
   "cell_type": "code",
   "execution_count": 11,
   "id": "cb833482",
   "metadata": {},
   "outputs": [],
   "source": [
    "from sklearn.model_selection import train_test_split\n",
    "train_x, test_x, train_y, test_y=train_test_split(X, Y, test_size=0.25, random_state=0)"
   ]
  },
  {
   "cell_type": "code",
   "execution_count": 12,
   "id": "cc3dd090",
   "metadata": {},
   "outputs": [],
   "source": [
    "from sklearn.naive_bayes import GaussianNB\n",
    "classifier=GaussianNB()\n",
    "classifier.fit(train_x, train_y) #Model training\n",
    "y_dash=classifier.predict(test_x) #Model testing"
   ]
  },
  {
   "cell_type": "code",
   "execution_count": 13,
   "id": "8aa6c04a",
   "metadata": {},
   "outputs": [
    {
     "name": "stdout",
     "output_type": "stream",
     "text": [
      "[[13  0  0]\n",
      " [ 0 16  0]\n",
      " [ 0  0  9]]\n",
      "100.0\n"
     ]
    }
   ],
   "source": [
    "from sklearn.metrics import accuracy_score, confusion_matrix\n",
    "cm=confusion_matrix(test_y, y_dash)\n",
    "acc=accuracy_score(test_y, y_dash)\n",
    "print(cm)\n",
    "print(acc*100)"
   ]
  }
 ],
 "metadata": {
  "kernelspec": {
   "display_name": "Python 3 (ipykernel)",
   "language": "python",
   "name": "python3"
  },
  "language_info": {
   "codemirror_mode": {
    "name": "ipython",
    "version": 3
   },
   "file_extension": ".py",
   "mimetype": "text/x-python",
   "name": "python",
   "nbconvert_exporter": "python",
   "pygments_lexer": "ipython3",
   "version": "3.9.13"
  }
 },
 "nbformat": 4,
 "nbformat_minor": 5
}
